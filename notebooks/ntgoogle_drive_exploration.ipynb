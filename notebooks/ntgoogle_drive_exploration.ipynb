{
 "cells": [
  {
   "cell_type": "code",
   "execution_count": 1,
   "metadata": {},
   "outputs": [],
   "source": [
    "import dotenv\n",
    "import os\n",
    "os.chdir(os.path.join(os.getcwd(), \"..\"))\n",
    "from googleapiclient.discovery import build\n",
    "from google.oauth2.credentials import Credentials\n",
    "\n",
    "dotenv.load_dotenv()\n",
    "token_path = os.getenv(\"GOOGLE_TOKEN_PATH\")\n",
    "SCOPES = [\"https://www.googleapis.com/auth/drive\"]\n",
    "creds = Credentials.from_authorized_user_file(token_path, SCOPES)\n",
    "service = build(\"drive\", \"v3\", credentials=creds)"
   ]
  }
 ],
 "metadata": {
  "kernelspec": {
   "display_name": "base",
   "language": "python",
   "name": "python3"
  },
  "language_info": {
   "codemirror_mode": {
    "name": "ipython",
    "version": 3
   },
   "file_extension": ".py",
   "mimetype": "text/x-python",
   "name": "python",
   "nbconvert_exporter": "python",
   "pygments_lexer": "ipython3",
   "version": "3.11.7"
  }
 },
 "nbformat": 4,
 "nbformat_minor": 2
}
